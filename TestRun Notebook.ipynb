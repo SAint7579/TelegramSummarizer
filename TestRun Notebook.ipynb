{
 "cells": [
  {
   "cell_type": "code",
   "execution_count": 1,
   "metadata": {},
   "outputs": [],
   "source": [
    "import requests\n",
    "import json\n",
    "import configparser\n",
    "from telethon import TelegramClient\n",
    "from telethon.errors import SessionPasswordNeededError\n",
    "from telethon.tl.functions.messages import (GetHistoryRequest)\n",
    "from telethon.tl.types import (\n",
    "PeerChannel\n",
    ")"
   ]
  },
  {
   "cell_type": "markdown",
   "metadata": {},
   "source": [
    "## Getting the Token"
   ]
  },
  {
   "cell_type": "code",
   "execution_count": 43,
   "metadata": {},
   "outputs": [],
   "source": [
    "url = \"https://api.symbl.ai/oauth2/token:generate\"\n",
    "\n",
    "appId = \"6b454a506830584a3246534a6d6d6b6e4974417a636e3441506b4841624b5270\" \n",
    "appSecret = \"70694e33646a544e43694c444c5f7135663768726a5045305636313562797a557176426c377952346f57477464566c6a67783758695776464733795071494e72\"\n",
    "\n",
    "payload = {\n",
    "    \"type\": \"application\",\n",
    "    \"appId\": appId,\n",
    "    \"appSecret\": appSecret\n",
    "}\n",
    "headers = {\n",
    "    'Content-Type': 'application/json'\n",
    "}\n",
    "\n",
    "responses = {\n",
    "    400: 'Bad Request! Please refer docs for correct input fields.',\n",
    "    401: 'Unauthorized. Please generate a new access token.',\n",
    "    404: 'The conversation and/or it\\'s metadata you asked could not be found, please check the input provided',\n",
    "    429: 'Maximum number of concurrent jobs reached. Please wait for some requests to complete.',\n",
    "    500: 'Something went wrong! Please contact support@symbl.ai'\n",
    "}\n",
    "\n",
    "response = requests.request(\"POST\", url, headers=headers, data=json.dumps(payload))\n",
    "access_token = response.json()['accessToken']"
   ]
  },
  {
   "cell_type": "code",
   "execution_count": 44,
   "metadata": {},
   "outputs": [
    {
     "name": "stdout",
     "output_type": "stream",
     "text": [
      "Client Created\n"
     ]
    }
   ],
   "source": [
    "config = configparser.ConfigParser()\n",
    "config.read(\"config.ini\")\n",
    "\n",
    "# Setting configuration values\n",
    "api_id = config['Telegram']['api_id']\n",
    "api_hash = config['Telegram']['api_hash']\n",
    "\n",
    "api_hash = str(api_hash)\n",
    "\n",
    "phone = config['Telegram']['phone']\n",
    "username = config['Telegram']['username']\n",
    "\n",
    "client = TelegramClient(username, api_id, api_hash)\n",
    "await client.start()\n",
    "print(\"Client Created\")\n",
    "# Ensure you're authorized\n",
    "if not await client.is_user_authorized():\n",
    "    client.send_code_request(phone)\n",
    "    try:\n",
    "        client.sign_in(phone, input('Enter the code: '))\n",
    "    except SessionPasswordNeededError:\n",
    "        client.sign_in(password=input('Password: '))"
   ]
  },
  {
   "cell_type": "code",
   "execution_count": 88,
   "metadata": {},
   "outputs": [],
   "source": [
    "messages_informat = list()\n",
    "random = await client.get_messages('https://t.me/joinchat/SH1K6krWGvvk_bEz',5)\n",
    "for x in random[::-1]:\n",
    "    if x.message is not None and len(x.message)!=0:\n",
    "        user = await (x.get_sender())\n",
    "        messages_informat.append(\n",
    "        {\n",
    "            \"duration\": {\"startTime\": str(x.date), \"endTime\": str(x.date)},\n",
    "            # <Optional, object| Duration object containing startTime and/or endTime for the transcript.>, e.g.\n",
    "            \"payload\": {\n",
    "                \"content\": x.message,\n",
    "                \"contentType\": \"text/plain\"\n",
    "            },\n",
    "            \"from\": {\"name\": str(user.first_name) + \" \" +str(user.last_name), \"userId\": str(user.id)}\n",
    "            # <Optional, object| Information about the User information i.e. name and/or userId, produced the content of this message.>\n",
    "        }\n",
    "        \n",
    "        \n",
    "        \n",
    "        )"
   ]
  },
  {
   "cell_type": "code",
   "execution_count": 89,
   "metadata": {},
   "outputs": [],
   "source": [
    "url = \"https://api.symbl.ai/v1/process/text\"\n",
    "\n",
    "# set your access token here. See https://docs.symbl.ai/docs/authentication\n",
    "\n",
    "payload = {\n",
    "    \"name\": \"MIT WPU Parents Group\",  # <Optional,String| your_meeting_name by default conversationId>\n",
    "\n",
    "    \"confidenceThreshold\": 0.5,\n",
    "    # <Optional,double| Minimum required confidence for the insight to be recognized. Value ranges between 0.0 to 1.0. Default value is 0.5.>\n",
    "\n",
    "    \"detectPhrases\": True,\n",
    "    # <Optional,boolean| It shows Actionable Phrases in each sentence of conversation. These sentences can be found using the Conversation's Messages API. Default value is false.>\n",
    "\n",
    "    \"messages\": messages_informat\n",
    "}\n",
    "\n",
    "headers = {\n",
    "    'Authorization': 'Bearer ' + access_token,\n",
    "    'Content-Type': 'application/json'\n",
    "}\n",
    "\n",
    "response = requests.request(\"POST\", url, headers=headers, data=json.dumps(payload))\n",
    "response_json = None\n",
    "if response.status_code >= 200 and response.status_code < 400:\n",
    "    # Successful API execution\n",
    "    response_json = response.json()\n",
    "    \n",
    "elif response.status_code in responses.keys():\n",
    "    print(responses[response.status_code])  # Expected error occurred\n",
    "else:\n",
    "    print(\"Unexpected error occurred. Please contact support@symbl.ai\" + \", Debug Message => \" + str(response.text))\n",
    "\n",
    "conversationId = response_json['conversationId']"
   ]
  },
  {
   "cell_type": "code",
   "execution_count": 90,
   "metadata": {},
   "outputs": [],
   "source": [
    "#For Members:\n",
    "\n",
    "baseUrl_mem = \"https://api.symbl.ai/v1/conversations/{conversationId}\"\n",
    "url = baseUrl_mem.format(conversationId=conversationId)\n",
    "\n",
    "headers = {\n",
    "    'Authorization': 'Bearer ' + access_token,\n",
    "    'Content-Type': 'application/json'\n",
    "}\n",
    "\n",
    "\n",
    "response = requests.request(\"GET\", url, headers=headers)\n",
    "#print(\"topics => \" + str(response.json()))\n",
    "\n",
    "string_members = \"Members:\\n\"\n",
    "\n",
    "for x in response.json()[\"members\"]:\n",
    "    string_members = string_members + x[\"name\"] + '\\n'"
   ]
  },
  {
   "cell_type": "code",
   "execution_count": 92,
   "metadata": {},
   "outputs": [
    {
     "name": "stdout",
     "output_type": "stream",
     "text": [
      "Members:\n",
      "Sahil Ambedkar\n",
      "Rithwik Shinkar\n",
      "Himanshu Chaudhari\n",
      "Bhagyesh Chaudhari\n",
      "\n"
     ]
    }
   ],
   "source": [
    "user"
   ]
  },
  {
   "cell_type": "code",
   "execution_count": 155,
   "metadata": {},
   "outputs": [],
   "source": [
    "#For Topics:\n",
    "baseUrl_topics = \"https://api.symbl.ai/v1/conversations/{conversationId}/topics\"\n",
    "url = baseUrl_topics.format(conversationId=conversationId)\n",
    "\n",
    "params = {\n",
    "    'sentiment': True,  # <Optional, boolean| Give you sentiment analysis on each topic in conversation.>\n",
    "    'parentRefs': True,  # <Optional, boolean| Gives you topic hierarchy.>\n",
    "}\n",
    "response = requests.request(\"GET\", url, headers=headers, params=json.dumps(params))\n",
    "#print(\"topics => \" + str(response.json()['topics']))\n",
    "\n",
    "string_topics = \"Topics:\\n\"\n",
    "\n",
    "for x in response.json()['topics']:\n",
    "    string_topics = string_topics + x['text'] + '\\n'"
   ]
  },
  {
   "cell_type": "code",
   "execution_count": 156,
   "metadata": {},
   "outputs": [
    {
     "name": "stdout",
     "output_type": "stream",
     "text": [
      "Topics:\n",
      "false results\n",
      "\n"
     ]
    }
   ],
   "source": [
    "print(string_topics)"
   ]
  },
  {
   "cell_type": "code",
   "execution_count": 157,
   "metadata": {},
   "outputs": [],
   "source": [
    "#For Action Items:\n",
    "baseUrl_act = \"https://api.symbl.ai/v1/conversations/{conversationId}/action-items\"\n",
    "url = baseUrl_act.format(conversationId=conversationId)\n",
    "\n",
    "headers = {\n",
    "    'Authorization': 'Bearer ' + access_token,\n",
    "    'Content-Type': 'application/json'\n",
    "}\n",
    "\n",
    "\n",
    "response = requests.request(\"GET\", url, headers=headers)\n",
    "#print(\"topics => \" + str(response.json()))\n",
    "\n",
    "string_actions = \"Actions:\\n\"\n",
    "\n",
    "for x in response.json()['actionItems']:\n",
    "    string_actions = string_actions + x['text'] + '\\n'"
   ]
  },
  {
   "cell_type": "code",
   "execution_count": 158,
   "metadata": {
    "scrolled": true
   },
   "outputs": [
    {
     "name": "stdout",
     "output_type": "stream",
     "text": [
      "Actions:\n",
      "\n"
     ]
    }
   ],
   "source": [
    "print(string_actions)"
   ]
  },
  {
   "cell_type": "code",
   "execution_count": 109,
   "metadata": {
    "collapsed": true
   },
   "outputs": [
    {
     "ename": "KeyError",
     "evalue": "'summary'",
     "output_type": "error",
     "traceback": [
      "\u001b[1;31m---------------------------------------------------------------------------\u001b[0m",
      "\u001b[1;31mKeyError\u001b[0m                                  Traceback (most recent call last)",
      "\u001b[1;32m<ipython-input-109-c8fd8b48ff7e>\u001b[0m in \u001b[0;36m<module>\u001b[1;34m\u001b[0m\n\u001b[0;32m     14\u001b[0m \u001b[0mstring_actions\u001b[0m \u001b[1;33m=\u001b[0m \u001b[1;34m\"Summary:\\n\"\u001b[0m\u001b[1;33m\u001b[0m\u001b[1;33m\u001b[0m\u001b[0m\n\u001b[0;32m     15\u001b[0m \u001b[1;33m\u001b[0m\u001b[0m\n\u001b[1;32m---> 16\u001b[1;33m \u001b[1;32mfor\u001b[0m \u001b[0mx\u001b[0m \u001b[1;32min\u001b[0m \u001b[0mresponse\u001b[0m\u001b[1;33m.\u001b[0m\u001b[0mjson\u001b[0m\u001b[1;33m(\u001b[0m\u001b[1;33m)\u001b[0m\u001b[1;33m[\u001b[0m\u001b[1;34m\"summary\"\u001b[0m\u001b[1;33m]\u001b[0m\u001b[1;33m:\u001b[0m\u001b[1;33m\u001b[0m\u001b[1;33m\u001b[0m\u001b[0m\n\u001b[0m\u001b[0;32m     17\u001b[0m     \u001b[0mstring_actions\u001b[0m \u001b[1;33m=\u001b[0m \u001b[0mstring_actions\u001b[0m \u001b[1;33m+\u001b[0m \u001b[0mx\u001b[0m\u001b[1;33m[\u001b[0m\u001b[1;34m'text'\u001b[0m\u001b[1;33m]\u001b[0m \u001b[1;33m+\u001b[0m \u001b[1;34m'\\n'\u001b[0m\u001b[1;33m\u001b[0m\u001b[1;33m\u001b[0m\u001b[0m\n",
      "\u001b[1;31mKeyError\u001b[0m: 'summary'"
     ]
    }
   ],
   "source": [
    "#For Action Items:\n",
    "baseUrl_sum = \"https://api.symbl.ai/v1/conversations/{conversationId}/summary\"\n",
    "url = baseUrl_sum.format(conversationId=conversationId)\n",
    "\n",
    "headers = {\n",
    "    'Authorization': 'Bearer ' + access_token,\n",
    "    'Content-Type': 'application/json'\n",
    "}\n",
    "\n",
    "\n",
    "response = requests.request(\"GET\", url, headers=headers)\n",
    "#print(\"topics => \" + str(response.json()))\n",
    "\n",
    "string_actions = \"Summary:\\n\"\n",
    "\n",
    "for x in response.json()[\"summary\"]:\n",
    "    string_actions = string_actions + x['text'] + '\\n'"
   ]
  },
  {
   "cell_type": "code",
   "execution_count": 111,
   "metadata": {},
   "outputs": [
    {
     "data": {
      "text/plain": [
       "{'message': 'Unable to get data for Summary right now. If the issue persists, please reach out to us at support@symbl.ai'}"
      ]
     },
     "execution_count": 111,
     "metadata": {},
     "output_type": "execute_result"
    }
   ],
   "source": [
    "response.json()"
   ]
  },
  {
   "cell_type": "markdown",
   "metadata": {},
   "source": [
    "## Wrapping Into Functions"
   ]
  },
  {
   "cell_type": "markdown",
   "metadata": {},
   "source": [
    "                    \"from\": {\"name\": str(user.first_name) + \" \" +(str(user.last_name) if user.last_name is not None else '')\n",
    "                            ,\"userId\": str(user.id)}"
   ]
  },
  {
   "cell_type": "code",
   "execution_count": 2,
   "metadata": {},
   "outputs": [],
   "source": [
    "async def getPayload(config_file,channel,count,phone_no,sess_password=None):\n",
    "    '''\n",
    "    config_file: Location of the Telegram Config File\n",
    "    channel: Channel ID/Number/Link\n",
    "    Count: Message Limit\n",
    "    Phone_no: Your number to authenticate the Client\n",
    "    sess_password = (If Required) For authentication\n",
    "    '''\n",
    "    config = configparser.ConfigParser()\n",
    "    config.read(config_file)\n",
    "\n",
    "    # Setting configuration values\n",
    "    api_id = config['Telegram']['api_id']\n",
    "    api_hash = config['Telegram']['api_hash']\n",
    "\n",
    "    api_hash = str(api_hash)\n",
    "\n",
    "    phone = config['Telegram']['phone']\n",
    "    username = config['Telegram']['username']\n",
    "    \n",
    "    #Creating the client\n",
    "    client = TelegramClient(username, api_id, api_hash)\n",
    "    await client.start()\n",
    "    print(\"Client Created\")\n",
    "    # Ensure you're authorized\n",
    "    if not await client.is_user_authorized():\n",
    "        client.send_code_request(phone)\n",
    "        try:\n",
    "            client.sign_in(phone, phone_no)\n",
    "        except SessionPasswordNeededError:\n",
    "            client.sign_in(password=sess_password)\n",
    "            \n",
    "    \n",
    "    #Getting Group Name\n",
    "    \n",
    "    group_name = (await client.get_entity(channel)).title\n",
    "    \n",
    "    \n",
    "    #Making the Payload list\n",
    "    messages_informat = list()\n",
    "    \n",
    "    m_list = await client.get_messages(channel,count)\n",
    "    for x in m_list[::-1]:\n",
    "        if x.message is not None and len(x.message)!=0:\n",
    "            #Getting the User Information\n",
    "            user = await (x.get_sender())\n",
    "            try:\n",
    "                messages_informat.append(\n",
    "\n",
    "                {\n",
    "                    \"duration\": {\"startTime\": str(x.date), \"endTime\": str(x.date)},\n",
    "                    # <Optional, object| Duration object containing startTime and/or endTime for the transcript.>, e.g.\n",
    "                    \"payload\": {\n",
    "                        \"content\": x.message,\n",
    "                        \"contentType\": \"text/plain\"\n",
    "                    },\n",
    "                    \"from\": {\"name\": str(user.first_name) + \" \" +str(user.last_name), \"userId\": str(user.id)}\n",
    "                    # <Optional, object| Information about the User information i.e. name and/or userId, produced the content of this message.>\n",
    "                }\n",
    "\n",
    "                )\n",
    "            except AttributeError:\n",
    "                messages_informat.append(\n",
    "\n",
    "                {\n",
    "                    \"duration\": {\"startTime\": str(x.date), \"endTime\": str(x.date)},\n",
    "                    # <Optional, object| Duration object containing startTime and/or endTime for the transcript.>, e.g.\n",
    "                    \"payload\": {\n",
    "                        \"content\": x.message,\n",
    "                        \"contentType\": \"text/plain\"\n",
    "                    },\n",
    "                    \"from\": {\"name\": user.title, \"userId\": str(user.id)}\n",
    "                    # <Optional, object| Information about the User information i.e. name and/or userId, produced the content of this message.>\n",
    "                }\n",
    "\n",
    "                )\n",
    "            \n",
    "    #Creating the final payload\n",
    "    payload = {\n",
    "    \"name\": group_name,  # <Optional,String| your_meeting_name by default conversationId>\n",
    "\n",
    "    \"confidenceThreshold\": 0.5,\n",
    "    # <Optional,double| Minimum required confidence for the insight to be recognized. Value ranges between 0.0 to 1.0. Default value is 0.5.>\n",
    "\n",
    "    \"detectPhrases\": True,\n",
    "    # <Optional,boolean| It shows Actionable Phrases in each sentence of conversation. These sentences can be found using the Conversation's Messages API. Default value is false.>\n",
    "\n",
    "    \"messages\": messages_informat}\n",
    "    \n",
    "    client.log_out()\n",
    "    \n",
    "    return payload"
   ]
  },
  {
   "cell_type": "code",
   "execution_count": 3,
   "metadata": {},
   "outputs": [],
   "source": [
    "def getSummary(payload):\n",
    "    url = \"https://api.symbl.ai/oauth2/token:generate\"\n",
    "\n",
    "    appId = \"6b454a506830584a3246534a6d6d6b6e4974417a636e3441506b4841624b5270\" \n",
    "    appSecret = \"70694e33646a544e43694c444c5f7135663768726a5045305636313562797a557176426c377952346f57477464566c6a67783758695776464733795071494e72\"\n",
    "\n",
    "    auth_payload = {\n",
    "        \"type\": \"application\",\n",
    "        \"appId\": appId,\n",
    "        \"appSecret\": appSecret\n",
    "    }\n",
    "    headers = {\n",
    "        'Content-Type': 'application/json'\n",
    "    }\n",
    "\n",
    "    responses = {\n",
    "        400: 'Bad Request! Please refer docs for correct input fields.',\n",
    "        401: 'Unauthorized. Please generate a new access token.',\n",
    "        404: 'The conversation and/or it\\'s metadata you asked could not be found, please check the input provided',\n",
    "        429: 'Maximum number of concurrent jobs reached. Please wait for some requests to complete.',\n",
    "        500: 'Something went wrong! Please contact support@symbl.ai'\n",
    "    }\n",
    "\n",
    "    response = requests.request(\"POST\", url, headers=headers, data=json.dumps(auth_payload))\n",
    "    access_token = response.json()['accessToken']\n",
    "    \n",
    "    \n",
    "    #Getting the conversation ID\n",
    "\n",
    "    url = \"https://api.symbl.ai/v1/process/text\"\n",
    "\n",
    "    # set your access token here. See https://docs.symbl.ai/docs/authentication\n",
    "\n",
    "    headers = {\n",
    "        'Authorization': 'Bearer ' + access_token,\n",
    "        'Content-Type': 'application/json'\n",
    "    }\n",
    "\n",
    "    response = requests.request(\"POST\", url, headers=headers, data=json.dumps(payload))\n",
    "    response_json = None\n",
    "    if response.status_code >= 200 and response.status_code < 400:\n",
    "        # Successful API execution\n",
    "        response_json = response.json()\n",
    "\n",
    "    elif response.status_code in responses.keys():\n",
    "        print(responses[response.status_code])  # Expected error occurred\n",
    "    else:\n",
    "        print(\"Unexpected error occurred. Please contact support@symbl.ai\" + \", Debug Message => \" + str(response.text))\n",
    "\n",
    "    conversationId = response_json['conversationId']\n",
    "    \n",
    "    #For getting the member's list and the group title\n",
    "    baseUrl_mem = \"https://api.symbl.ai/v1/conversations/{conversationId}\"\n",
    "    url = baseUrl_mem.format(conversationId=conversationId)\n",
    "\n",
    "\n",
    "    response = requests.request(\"GET\", url, headers=headers)\n",
    "    #print(\"topics => \" + str(response.json()))\n",
    "\n",
    "    title = response.json()['name']\n",
    "\n",
    "    string_members = \"Members:\\n\"\n",
    "\n",
    "    for x in response.json()[\"members\"]:\n",
    "        string_members = string_members + x[\"name\"] + '\\n'\n",
    "    \n",
    "    print(response.json())\n",
    "    \n",
    "    #For Topics:\n",
    "    baseUrl_topics = \"https://api.symbl.ai/v1/conversations/{conversationId}/topics\"\n",
    "    url = baseUrl_topics.format(conversationId=conversationId)\n",
    "\n",
    "    params = {\n",
    "        'sentiment': True,  # <Optional, boolean| Give you sentiment analysis on each topic in conversation.>\n",
    "        'parentRefs': True,  # <Optional, boolean| Gives you topic hierarchy.>\n",
    "    }\n",
    "    response = requests.request(\"GET\", url, headers=headers, params=json.dumps(params))\n",
    "    #print(\"topics => \" + str(response.json()['topics']))\n",
    "\n",
    "    string_topics = \"Topics:\\n\"\n",
    "\n",
    "    for x in response.json()['topics']:\n",
    "        string_topics = string_topics + x['text'] + '\\n'\n",
    "\n",
    "    #For Action Items\n",
    "    baseUrl_act = \"https://api.symbl.ai/v1/conversations/{conversationId}/action-items\"\n",
    "    url = baseUrl_act.format(conversationId=conversationId)\n",
    "\n",
    "    headers = {\n",
    "        'Authorization': 'Bearer ' + access_token,\n",
    "        'Content-Type': 'application/json'\n",
    "    }\n",
    "\n",
    "\n",
    "    response = requests.request(\"GET\", url, headers=headers)\n",
    "    #print(\"topics => \" + str(response.json()))\n",
    "\n",
    "    string_actions = \"Actions:\\n\"\n",
    "\n",
    "    for x in response.json()['actionItems']:\n",
    "        string_actions = string_actions + x['text'] + '\\n'\n",
    "\n",
    "\n",
    "    return title + \"\\n\\n\" + string_members + \"\\n\\n\" + string_topics + \"\\n\\n\" + string_actions"
   ]
  },
  {
   "cell_type": "code",
   "execution_count": null,
   "metadata": {},
   "outputs": [],
   "source": [
    "payload = getPayload('./config.ini',\n",
    "           'https://t.me/joinchat/SH1K6krWGvvk_bEz',\n",
    "           5,\n",
    "           '+918237853821'\n",
    "          )"
   ]
  },
  {
   "cell_type": "code",
   "execution_count": 4,
   "metadata": {},
   "outputs": [
    {
     "name": "stdout",
     "output_type": "stream",
     "text": [
      "Client Created\n"
     ]
    },
    {
     "name": "stderr",
     "output_type": "stream",
     "text": [
      "<ipython-input-2-6f8f1dfb6b6f>:90: RuntimeWarning: coroutine 'AuthMethods.log_out' was never awaited\n",
      "  client.log_out()\n",
      "RuntimeWarning: Enable tracemalloc to get the object allocation traceback\n"
     ]
    }
   ],
   "source": [
    "payload = await getPayload('./config.ini', 'https://t.me/joinchat/SH1K6krWGvvk_bEz',5,'+918237853821')"
   ]
  },
  {
   "cell_type": "code",
   "execution_count": 5,
   "metadata": {},
   "outputs": [
    {
     "data": {
      "text/plain": [
       "{'name': 'MITWPU PARENTS GROUP',\n",
       " 'confidenceThreshold': 0.5,\n",
       " 'detectPhrases': True,\n",
       " 'messages': [{'duration': {'startTime': '2021-05-19 08:54:21+00:00',\n",
       "    'endTime': '2021-05-19 08:54:21+00:00'},\n",
       "   'payload': {'content': \"Rithwik you were once thrown out of meeting  for supporting management with your some third class leader and now you're here again doing the same.\",\n",
       "    'contentType': 'text/plain'},\n",
       "   'from': {'name': 'Bhagyesh Chaudhari', 'userId': '922796275'}},\n",
       "  {'duration': {'startTime': '2021-05-19 08:54:24+00:00',\n",
       "    'endTime': '2021-05-19 08:54:24+00:00'},\n",
       "   'payload': {'content': \"IST is a prolonged issue since a year now. If the student council genuinely wanted to sort things they could have done that before. Now please don't try to manipulate things.\",\n",
       "    'contentType': 'text/plain'},\n",
       "   'from': {'name': 'Sahil Ambedkar', 'userId': '1199675725'}},\n",
       "  {'duration': {'startTime': '2021-05-19 08:55:02+00:00',\n",
       "    'endTime': '2021-05-19 08:55:02+00:00'},\n",
       "   'payload': {'content': 'Thankyou so much for your compliments and I am not playing any politics. I completely support the efforts of @mohan_chaudhari sir. I have not even paid the fees until now. I have an educational loan and the financial situation of my home is not that good. Even I want the refund for IST.',\n",
       "    'contentType': 'text/plain'},\n",
       "   'from': {'name': 'Rithwik Shinkar', 'userId': '815415929'}},\n",
       "  {'duration': {'startTime': '2021-05-19 08:55:03+00:00',\n",
       "    'endTime': '2021-05-19 08:55:03+00:00'},\n",
       "   'payload': {'content': 'Ya I accept \\nBut it was for the welfare of students',\n",
       "    'contentType': 'text/plain'},\n",
       "   'from': {'name': 'Himanshu Chaudhari', 'userId': '1197730626'}},\n",
       "  {'duration': {'startTime': '2021-05-19 08:59:10+00:00',\n",
       "    'endTime': '2021-05-19 08:59:10+00:00'},\n",
       "   'payload': {'content': 'I was the host of that meeting, so it is not technically possible to \"throw me out\". The \"third class leader\" was the State Secretary of Indian Youth Congress. Even now, we have taken the support of an outside student organisation, Maharashtra Navnirman Vidyarthi Sena.',\n",
       "    'contentType': 'text/plain'},\n",
       "   'from': {'name': 'Rithwik Shinkar', 'userId': '815415929'}}]}"
      ]
     },
     "execution_count": 5,
     "metadata": {},
     "output_type": "execute_result"
    }
   ],
   "source": [
    "payload"
   ]
  },
  {
   "cell_type": "code",
   "execution_count": 6,
   "metadata": {},
   "outputs": [
    {
     "name": "stdout",
     "output_type": "stream",
     "text": [
      "{'id': '6480473951830016', 'type': 'meeting', 'name': 'MITWPU PARENTS GROUP', 'startTime': '2021-05-19T09:04:27.416Z', 'members': []}\n",
      "MITWPU PARENTS GROUP\n",
      "\n",
      "Members:\n",
      "\n",
      "\n",
      "Topics:\n",
      "class leader\n",
      "student council\n",
      "welfare of students\n",
      "maharashtra navnirman vidyarthi\n",
      "student organisation\n",
      "state secretary\n",
      "\n",
      "\n",
      "Actions:\n",
      "\n"
     ]
    }
   ],
   "source": [
    "print(getSummary(payload))"
   ]
  },
  {
   "cell_type": "code",
   "execution_count": null,
   "metadata": {},
   "outputs": [],
   "source": []
  }
 ],
 "metadata": {
  "kernelspec": {
   "display_name": "Python 3",
   "language": "python",
   "name": "python3"
  },
  "language_info": {
   "codemirror_mode": {
    "name": "ipython",
    "version": 3
   },
   "file_extension": ".py",
   "mimetype": "text/x-python",
   "name": "python",
   "nbconvert_exporter": "python",
   "pygments_lexer": "ipython3",
   "version": "3.8.5"
  }
 },
 "nbformat": 4,
 "nbformat_minor": 4
}
